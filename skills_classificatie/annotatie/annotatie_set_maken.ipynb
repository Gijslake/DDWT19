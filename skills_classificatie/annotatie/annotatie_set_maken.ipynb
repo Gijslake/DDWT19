{
  "nbformat": 4,
  "nbformat_minor": 0,
  "metadata": {
    "colab": {
      "provenance": [],
      "include_colab_link": true
    },
    "kernelspec": {
      "name": "python3",
      "display_name": "Python 3"
    },
    "language_info": {
      "name": "python"
    }
  },
  "cells": [
    {
      "cell_type": "markdown",
      "metadata": {
        "id": "view-in-github",
        "colab_type": "text"
      },
      "source": [
        "<a href=\"https://colab.research.google.com/github/Gijslake/DDWT19/blob/master/skills_classificatie/annotatie/annotatie_set_maken.ipynb\" target=\"_parent\"><img src=\"https://colab.research.google.com/assets/colab-badge.svg\" alt=\"Open In Colab\"/></a>"
      ]
    },
    {
      "cell_type": "markdown",
      "source": [
        "# Belangrijke info:\n",
        "\n",
        "Dit programma gaat ervan uit dat de volgende bestanden in de drive staan:\n",
        "\n",
        "\n",
        "*   Milvus in zip: /Milvus_model/Milvus.zip\n",
        "*   Sentence transformer model in zip: /models/model_file_all_skills_199k_15e_2023-06-27_11:39_best/model.zip\n",
        "*   Cluser model in pickle: /Osso data/clustering data/kmeans_model_all_skills.pickle\n",
        "*   Resultaten in CSV: /Osso data/test data/macro_scale_results_1000_vac.csv\n",
        "\n",
        "Om het programma te draaien:\n",
        "*   Klap koppen uit\n",
        "*   Run de volgende kopjes door op het run icoon (&#9658;) drukken:\n",
        "    *   \"Drive mounten\"\n",
        "    *   \"Pip installaties\"\n",
        "    *   Hierna kunnen de rest van de kopjes gedraaid worden\n",
        "\n",
        "Onder het kopje \"Vacature(s) ophalen en indelen\" kunnen een aantal variables aangepast worden. Om de data te herladen moet het knopje met &#9658; opnieuw gedraaid worden. Hiervan krijg je lijst met tabellen (of één als je maar één vacature ophaalt) met onder het tabel het aantal teksten dat met en zonder filter opgehaald worden.\n",
        "\n",
        "Als het programma niet meer draait, dan: Runtime -> Verbinding verbreken en runtime verwijderen\n",
        "Hierna alles weer opnieuw draaien zoals hierboven geschreven"
      ],
      "metadata": {
        "id": "penBBuYE5-Sc"
      }
    },
    {
      "cell_type": "markdown",
      "source": [
        "# Meest voorkomende teksten opzoeken"
      ],
      "metadata": {
        "id": "84ncZ_-HugFs"
      }
    },
    {
      "cell_type": "markdown",
      "source": [
        "## Milvus server inladen en starten"
      ],
      "metadata": {
        "id": "gDYFCn6zGIKT"
      }
    },
    {
      "cell_type": "code",
      "source": [
        "from google.colab import drive\n",
        "drive.mount('/content/drive')"
      ],
      "metadata": {
        "id": "m51yYI-pqUxc",
        "outputId": "140c13aa-17df-4808-af54-ed2bfb72201b",
        "colab": {
          "base_uri": "https://localhost:8080/"
        }
      },
      "execution_count": 1,
      "outputs": [
        {
          "output_type": "stream",
          "name": "stdout",
          "text": [
            "Mounted at /content/drive\n"
          ]
        }
      ]
    },
    {
      "cell_type": "markdown",
      "source": [
        "### Pip installaties"
      ],
      "metadata": {
        "id": "uUO7oeWSJ4qC"
      }
    },
    {
      "cell_type": "code",
      "source": [
        "!pip install pandas\n",
        "!pip install pyyaml\n",
        "!pip install python-swiftclient python-keystoneclient\n",
        "!pip install beautifulsoup4\n",
        "!pip install lxml"
      ],
      "metadata": {
        "id": "8RZuzljuHLDM",
        "outputId": "5b151748-e974-43bc-bc6a-dc740b74588e",
        "colab": {
          "base_uri": "https://localhost:8080/"
        }
      },
      "execution_count": 2,
      "outputs": [
        {
          "output_type": "stream",
          "name": "stdout",
          "text": [
            "Requirement already satisfied: pandas in /usr/local/lib/python3.10/dist-packages (1.5.3)\n",
            "Requirement already satisfied: python-dateutil>=2.8.1 in /usr/local/lib/python3.10/dist-packages (from pandas) (2.8.2)\n",
            "Requirement already satisfied: pytz>=2020.1 in /usr/local/lib/python3.10/dist-packages (from pandas) (2023.3.post1)\n",
            "Requirement already satisfied: numpy>=1.21.0 in /usr/local/lib/python3.10/dist-packages (from pandas) (1.23.5)\n",
            "Requirement already satisfied: six>=1.5 in /usr/local/lib/python3.10/dist-packages (from python-dateutil>=2.8.1->pandas) (1.16.0)\n",
            "Requirement already satisfied: pyyaml in /usr/local/lib/python3.10/dist-packages (6.0.1)\n",
            "Collecting python-swiftclient\n",
            "  Downloading python_swiftclient-4.4.0-py3-none-any.whl (88 kB)\n",
            "\u001b[2K     \u001b[90m━━━━━━━━━━━━━━━━━━━━━━━━━━━━━━━━━━━━━━━━\u001b[0m \u001b[32m88.9/88.9 kB\u001b[0m \u001b[31m1.2 MB/s\u001b[0m eta \u001b[36m0:00:00\u001b[0m\n",
            "\u001b[?25hCollecting python-keystoneclient\n",
            "  Downloading python_keystoneclient-5.2.0-py3-none-any.whl (397 kB)\n",
            "\u001b[2K     \u001b[90m━━━━━━━━━━━━━━━━━━━━━━━━━━━━━━━━━━━━━━━━\u001b[0m \u001b[32m397.9/397.9 kB\u001b[0m \u001b[31m12.1 MB/s\u001b[0m eta \u001b[36m0:00:00\u001b[0m\n",
            "\u001b[?25hRequirement already satisfied: requests>=2.4.0 in /usr/local/lib/python3.10/dist-packages (from python-swiftclient) (2.31.0)\n",
            "Collecting debtcollector>=1.2.0 (from python-keystoneclient)\n",
            "  Downloading debtcollector-2.5.0-py3-none-any.whl (23 kB)\n",
            "Collecting keystoneauth1>=3.4.0 (from python-keystoneclient)\n",
            "  Downloading keystoneauth1-5.4.0-py3-none-any.whl (323 kB)\n",
            "\u001b[2K     \u001b[90m━━━━━━━━━━━━━━━━━━━━━━━━━━━━━━━━━━━━━━━━\u001b[0m \u001b[32m323.5/323.5 kB\u001b[0m \u001b[31m25.5 MB/s\u001b[0m eta \u001b[36m0:00:00\u001b[0m\n",
            "\u001b[?25hCollecting oslo.config>=5.2.0 (from python-keystoneclient)\n",
            "  Downloading oslo.config-9.2.0-py3-none-any.whl (128 kB)\n",
            "\u001b[2K     \u001b[90m━━━━━━━━━━━━━━━━━━━━━━━━━━━━━━━━━━━━━━━━\u001b[0m \u001b[32m128.6/128.6 kB\u001b[0m \u001b[31m15.3 MB/s\u001b[0m eta \u001b[36m0:00:00\u001b[0m\n",
            "\u001b[?25hCollecting oslo.i18n>=3.15.3 (from python-keystoneclient)\n",
            "  Downloading oslo.i18n-6.2.0-py3-none-any.whl (46 kB)\n",
            "\u001b[2K     \u001b[90m━━━━━━━━━━━━━━━━━━━━━━━━━━━━━━━━━━━━━━━━\u001b[0m \u001b[32m46.8/46.8 kB\u001b[0m \u001b[31m5.5 MB/s\u001b[0m eta \u001b[36m0:00:00\u001b[0m\n",
            "\u001b[?25hCollecting oslo.serialization!=2.19.1,>=2.18.0 (from python-keystoneclient)\n",
            "  Downloading oslo.serialization-5.2.0-py3-none-any.whl (26 kB)\n",
            "Collecting oslo.utils>=3.33.0 (from python-keystoneclient)\n",
            "  Downloading oslo.utils-6.3.0-py3-none-any.whl (101 kB)\n",
            "\u001b[2K     \u001b[90m━━━━━━━━━━━━━━━━━━━━━━━━━━━━━━━━━━━━━━━━\u001b[0m \u001b[32m101.2/101.2 kB\u001b[0m \u001b[31m12.5 MB/s\u001b[0m eta \u001b[36m0:00:00\u001b[0m\n",
            "\u001b[?25hRequirement already satisfied: packaging>=20.4 in /usr/local/lib/python3.10/dist-packages (from python-keystoneclient) (23.2)\n",
            "Collecting pbr!=2.1.0,>=2.0.0 (from python-keystoneclient)\n",
            "  Downloading pbr-6.0.0-py2.py3-none-any.whl (107 kB)\n",
            "\u001b[2K     \u001b[90m━━━━━━━━━━━━━━━━━━━━━━━━━━━━━━━━━━━━━━━━\u001b[0m \u001b[32m107.5/107.5 kB\u001b[0m \u001b[31m15.3 MB/s\u001b[0m eta \u001b[36m0:00:00\u001b[0m\n",
            "\u001b[?25hRequirement already satisfied: six>=1.10.0 in /usr/local/lib/python3.10/dist-packages (from python-keystoneclient) (1.16.0)\n",
            "Collecting stevedore>=1.20.0 (from python-keystoneclient)\n",
            "  Downloading stevedore-5.1.0-py3-none-any.whl (49 kB)\n",
            "\u001b[2K     \u001b[90m━━━━━━━━━━━━━━━━━━━━━━━━━━━━━━━━━━━━━━━━\u001b[0m \u001b[32m49.6/49.6 kB\u001b[0m \u001b[31m5.8 MB/s\u001b[0m eta \u001b[36m0:00:00\u001b[0m\n",
            "\u001b[?25hRequirement already satisfied: wrapt>=1.7.0 in /usr/local/lib/python3.10/dist-packages (from debtcollector>=1.2.0->python-keystoneclient) (1.14.1)\n",
            "Collecting iso8601>=0.1.11 (from keystoneauth1>=3.4.0->python-keystoneclient)\n",
            "  Downloading iso8601-2.1.0-py3-none-any.whl (7.5 kB)\n",
            "Collecting os-service-types>=1.2.0 (from keystoneauth1>=3.4.0->python-keystoneclient)\n",
            "  Downloading os_service_types-1.7.0-py2.py3-none-any.whl (24 kB)\n",
            "Requirement already satisfied: PyYAML>=5.1 in /usr/local/lib/python3.10/dist-packages (from oslo.config>=5.2.0->python-keystoneclient) (6.0.1)\n",
            "Collecting netaddr>=0.7.18 (from oslo.config>=5.2.0->python-keystoneclient)\n",
            "  Downloading netaddr-0.9.0-py3-none-any.whl (2.2 MB)\n",
            "\u001b[2K     \u001b[90m━━━━━━━━━━━━━━━━━━━━━━━━━━━━━━━━━━━━━━━━\u001b[0m \u001b[32m2.2/2.2 MB\u001b[0m \u001b[31m61.8 MB/s\u001b[0m eta \u001b[36m0:00:00\u001b[0m\n",
            "\u001b[?25hCollecting rfc3986>=1.2.0 (from oslo.config>=5.2.0->python-keystoneclient)\n",
            "  Downloading rfc3986-2.0.0-py2.py3-none-any.whl (31 kB)\n",
            "Requirement already satisfied: msgpack>=0.5.2 in /usr/local/lib/python3.10/dist-packages (from oslo.serialization!=2.19.1,>=2.18.0->python-keystoneclient) (1.0.7)\n",
            "Requirement already satisfied: pytz>=2013.6 in /usr/local/lib/python3.10/dist-packages (from oslo.serialization!=2.19.1,>=2.18.0->python-keystoneclient) (2023.3.post1)\n",
            "Collecting tzdata>=2022.4 (from oslo.serialization!=2.19.1,>=2.18.0->python-keystoneclient)\n",
            "  Downloading tzdata-2023.3-py2.py3-none-any.whl (341 kB)\n",
            "\u001b[2K     \u001b[90m━━━━━━━━━━━━━━━━━━━━━━━━━━━━━━━━━━━━━━━━\u001b[0m \u001b[32m341.8/341.8 kB\u001b[0m \u001b[31m32.7 MB/s\u001b[0m eta \u001b[36m0:00:00\u001b[0m\n",
            "\u001b[?25hCollecting netifaces>=0.10.4 (from oslo.utils>=3.33.0->python-keystoneclient)\n",
            "  Downloading netifaces-0.11.0.tar.gz (30 kB)\n",
            "  Preparing metadata (setup.py) ... \u001b[?25l\u001b[?25hdone\n",
            "Requirement already satisfied: pyparsing>=2.1.0 in /usr/local/lib/python3.10/dist-packages (from oslo.utils>=3.33.0->python-keystoneclient) (3.1.1)\n",
            "Requirement already satisfied: charset-normalizer<4,>=2 in /usr/local/lib/python3.10/dist-packages (from requests>=2.4.0->python-swiftclient) (3.3.2)\n",
            "Requirement already satisfied: idna<4,>=2.5 in /usr/local/lib/python3.10/dist-packages (from requests>=2.4.0->python-swiftclient) (3.4)\n",
            "Requirement already satisfied: urllib3<3,>=1.21.1 in /usr/local/lib/python3.10/dist-packages (from requests>=2.4.0->python-swiftclient) (2.0.7)\n",
            "Requirement already satisfied: certifi>=2017.4.17 in /usr/local/lib/python3.10/dist-packages (from requests>=2.4.0->python-swiftclient) (2023.7.22)\n",
            "Building wheels for collected packages: netifaces\n",
            "  Building wheel for netifaces (setup.py) ... \u001b[?25l\u001b[?25hdone\n",
            "  Created wheel for netifaces: filename=netifaces-0.11.0-cp310-cp310-linux_x86_64.whl size=35004 sha256=962d8d6617b6930d08694b9c5dd3c2eccb14c60cfb63a405daa8b51b84f651f3\n",
            "  Stored in directory: /root/.cache/pip/wheels/48/65/b3/4c4cc6038b81ff21cc9df69f2b6774f5f52e23d3c275ed15aa\n",
            "Successfully built netifaces\n",
            "Installing collected packages: netifaces, netaddr, tzdata, rfc3986, pbr, iso8601, debtcollector, stevedore, python-swiftclient, oslo.i18n, os-service-types, oslo.utils, oslo.config, keystoneauth1, oslo.serialization, python-keystoneclient\n",
            "Successfully installed debtcollector-2.5.0 iso8601-2.1.0 keystoneauth1-5.4.0 netaddr-0.9.0 netifaces-0.11.0 os-service-types-1.7.0 oslo.config-9.2.0 oslo.i18n-6.2.0 oslo.serialization-5.2.0 oslo.utils-6.3.0 pbr-6.0.0 python-keystoneclient-5.2.0 python-swiftclient-4.4.0 rfc3986-2.0.0 stevedore-5.1.0 tzdata-2023.3\n",
            "Requirement already satisfied: beautifulsoup4 in /usr/local/lib/python3.10/dist-packages (4.11.2)\n",
            "Requirement already satisfied: soupsieve>1.2 in /usr/local/lib/python3.10/dist-packages (from beautifulsoup4) (2.5)\n",
            "Requirement already satisfied: lxml in /usr/local/lib/python3.10/dist-packages (4.9.3)\n"
          ]
        }
      ]
    },
    {
      "cell_type": "markdown",
      "source": [
        "## Preparations"
      ],
      "metadata": {
        "id": "2AK8tng4CBgy"
      }
    },
    {
      "cell_type": "markdown",
      "source": [
        "### Functies voor data ophalen en verwerken"
      ],
      "metadata": {
        "id": "rQMjfdVnOggM"
      }
    },
    {
      "cell_type": "code",
      "source": [
        "import yaml\n",
        "\n",
        "def read_secrets():\n",
        "    with open(\"drive/MyDrive/InputData/secrets.yml\", 'r') as file:\n",
        "        data = yaml.safe_load(file)\n",
        "        return data\n",
        "\n",
        "secrets = read_secrets()\n",
        "api_key = secrets['open-api']['key']\n",
        "model = 'text-davinci-003'"
      ],
      "metadata": {
        "id": "bEUN_UMiugZS"
      },
      "execution_count": 3,
      "outputs": []
    },
    {
      "cell_type": "code",
      "source": [
        "def is_inline(item):\n",
        "  # Returnt true als item tag een inline tag is\n",
        "  inline_items = [\"a\", \"abbr\", \"acronym\", \"b\", \"bdo\", \"big\", \"button\", \"cite\",\n",
        "                  \"code\", \"dfn\", \"em\", \"i\", \"img\", \"input\", \"kbd\", \"label\", \"map\",\n",
        "                  \"object\", \"output\", \"q\", \"samp\", \"script\", \"select\", \"small\",\n",
        "                  \"span\", \"strong\", \"sub\", \"sup\", \"textarea\", \"time\", \"tt\", \"var\"]\n",
        "  return item.name in inline_items"
      ],
      "metadata": {
        "id": "N1Pv3xpXw4W2"
      },
      "execution_count": 4,
      "outputs": []
    },
    {
      "cell_type": "code",
      "source": [
        "import regex as re\n",
        "\n",
        "def extract_text_recursive(item) -> [str]:\n",
        "  pattern = r\"^[^a-zA-Z0-9]+\\s*\"\n",
        "  blocks = [\"\"]\n",
        "\n",
        "  # Itereer over alle block in een item\n",
        "  for child in item.contents:\n",
        "\n",
        "    # Als de name None is, gaat het om een bs4.element.NavigableString, dus een stuk tekst\n",
        "    if child.name == None:\n",
        "      blocks[-1] = blocks[-1] + \" \" + child.string.strip()\n",
        "\n",
        "    # Als de child.name in de inline tags lijst staat, dan...\n",
        "    elif is_inline(child):\n",
        "      result = extract_text_recursive(child)\n",
        "      # ... wordt de text behandeld als deel van het huidig block tenzij...\n",
        "      if len(result) == 1:\n",
        "        blocks[-1] = blocks[-1] + \" \" + result[0]\n",
        "      # ... deze toch children blijkt te hebben, dan worden de children als aparte blokken behandeld\n",
        "      else:\n",
        "        blocks = blocks + result\n",
        "\n",
        "    # Als het een block tag betreft, behandel het dan als nieuw block\n",
        "    else:\n",
        "      result = extract_text_recursive(child)\n",
        "      # Als dit block daadwerkelijk tekst bevat, voeg het toe\n",
        "      if len(result) > 0:\n",
        "        blocks = blocks + result\n",
        "      # Anders voeg een lege string toe om eventuele tekst uit children aan toe te voegen\n",
        "      else:\n",
        "        blocks.append(\"\")\n",
        "\n",
        "  # Verwijder lijsten met \"- \" en dergelijke en lege strings\n",
        "  blocks = [re.sub(pattern, \"\", block.strip(), flags=re.S) for block in blocks if block.strip() != \"\"]\n",
        "  return blocks"
      ],
      "metadata": {
        "id": "iEYYs_zufjgD"
      },
      "execution_count": 5,
      "outputs": []
    },
    {
      "cell_type": "markdown",
      "source": [
        "## Vacatures laden, html code verwerken, scoren en schrijven naar bestand"
      ],
      "metadata": {
        "id": "ffxIYvyMLX8g"
      }
    },
    {
      "cell_type": "code",
      "source": [
        "import swiftclient\n",
        "import json\n",
        "import swiftclient\n",
        "\n",
        "# Read the settings from the JSON file\n",
        "with open('drive/MyDrive/secrets_for_colab/osso_swift.json') as f:\n",
        "    settings = json.load(f)\n",
        "\n",
        "# Create a connection to the Swift API\n",
        "conn = swiftclient.Connection(\n",
        "    authurl=settings['auth_url'],\n",
        "    user=settings['user_name'],\n",
        "    key=settings['password'],\n",
        "    os_options=settings['_os_options'],\n",
        "    auth_version=settings['_auth_version']\n",
        ")\n",
        "\n",
        "# Set the container name and file name\n",
        "container_name = 'testcontainer_dev'\n",
        "\n",
        "# Get the files in the container\n",
        "_, file_list = conn.get_container(container_name, prefix=\"matching_production/jobdigger\")"
      ],
      "metadata": {
        "id": "Fs-HsS0fAQd0"
      },
      "execution_count": 6,
      "outputs": []
    },
    {
      "cell_type": "code",
      "source": [
        "# @title Vacature(s) ophalen en indelen\n",
        "import json\n",
        "import random\n",
        "from google.colab import widgets\n",
        "from google.colab import data_table\n",
        "import csv\n",
        "from bs4 import BeautifulSoup\n",
        "\n",
        "max_amt = 3 # @param {type:\"integer\"}\n",
        "vac_counter = 0\n",
        "text_list = []\n",
        "\n",
        "# Maak direrctory als die er niet is en zet de path variable\n",
        "!mkdir -p data/tmp\n",
        "\n",
        "results = []\n",
        "\n",
        "for file_num, vacs_file in enumerate(file_list):\n",
        "  if vac_counter > max_amt:\n",
        "        break\n",
        "\n",
        "  # Haal file op\n",
        "  name = vacs_file['name']\n",
        "  _, obj_contents = conn.get_object(container_name, name)\n",
        "\n",
        "  # Schrijf resultaat naar zip file\n",
        "  with open(\"/content/data/tmp/tmp.json.zip\", 'wb') as f:\n",
        "    f.write(obj_contents)\n",
        "\n",
        "  # Unzip\n",
        "  file_in = \"/content/data/tmp/tmp.json.zip\"\n",
        "  !unzip -o $file_in -d /content/data/tmp\n",
        "\n",
        "  # Lees JSON file\n",
        "  with open(\"/content/data/tmp/data.json\", \"rb\") as f:\n",
        "    data = json.load(f)\n",
        "    for vac_num, vac in enumerate(data):\n",
        "      if vac_counter > max_amt:\n",
        "        break\n",
        "\n",
        "      # Alleen groupleaders gebruiken en vacatures die ISCO_code hebben en de drie tekstgroepen hebben\n",
        "      if vac[\"PositionOpeningNL\"][\"PositionProfileNL\"][\"PositionDetail\"][\"Source\"][\"GroupLeader\"] == \"yes\":\n",
        "        # HTML code opvragen\n",
        "        html_code = list(vac[\"PositionOpeningNL\"][\"PositionProfileNL\"][\"PositionDetail\"][\"PositionTexts\"].values())[0]\n",
        "\n",
        "        # Parse HTML en split in kleinere stukjes\n",
        "        soup = BeautifulSoup(html_code, \"lxml\")\n",
        "        texts = extract_text_recursive(soup)\n",
        "\n",
        "        for text_num, text in enumerate(texts):\n",
        "          results.append([f'F{file_num}V{vac_num}T{text_num}', text, None])\n",
        "\n",
        "        vac_counter += 1\n",
        "\n",
        "\n",
        "random.shuffle(results)\n",
        "\n",
        "with open('/content/drive/MyDrive/Osso data/annotatie data/data_sample.csv', 'w', newline='') as csvfile:\n",
        "  csvwriter = csv.writer(csvfile, quoting=csv.QUOTE_MINIMAL)\n",
        "  csvwriter.writerow(['ID', 'Text', 'Contains_skill'])\n",
        "\n",
        "  for result in results:\n",
        "    csvwriter.writerow(result)"
      ],
      "metadata": {
        "id": "6S1UN_SXaYEb",
        "outputId": "cfcdf3a9-5834-4959-b784-cc1dd4d51d06",
        "colab": {
          "base_uri": "https://localhost:8080/"
        }
      },
      "execution_count": 10,
      "outputs": [
        {
          "output_type": "stream",
          "name": "stdout",
          "text": [
            "Archive:  /content/data/tmp/tmp.json.zip\n",
            "  inflating: /content/data/tmp/data.json  \n"
          ]
        }
      ]
    }
  ]
}