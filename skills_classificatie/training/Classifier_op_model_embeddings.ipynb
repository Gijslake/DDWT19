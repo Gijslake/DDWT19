{
  "cells": [
    {
      "cell_type": "markdown",
      "metadata": {
        "id": "view-in-github",
        "colab_type": "text"
      },
      "source": [
        "<a href=\"https://colab.research.google.com/github/Gijslake/DDWT19/blob/master/skills_classificatie/training/Classifier_op_model_embeddings.ipynb\" target=\"_parent\"><img src=\"https://colab.research.google.com/assets/colab-badge.svg\" alt=\"Open In Colab\"/></a>"
      ]
    },
    {
      "cell_type": "markdown",
      "metadata": {
        "id": "XI6kDX-_H1_0"
      },
      "source": [
        "# Classifier op model embeddings"
      ]
    },
    {
      "cell_type": "markdown",
      "metadata": {
        "id": "DYKjyGboH6iB"
      },
      "source": [
        "## Preperations"
      ]
    },
    {
      "cell_type": "code",
      "execution_count": 1,
      "metadata": {
        "colab": {
          "base_uri": "https://localhost:8080/"
        },
        "id": "N7DxKIA2FrvP",
        "outputId": "1bb6747f-904c-4ac2-9cba-02b2b5479af3"
      },
      "outputs": [
        {
          "output_type": "stream",
          "name": "stdout",
          "text": [
            "Mounted at /content/drive\n"
          ]
        }
      ],
      "source": [
        "# Connect to google drive\n",
        "from google.colab import drive\n",
        "drive.mount('/content/drive')"
      ]
    },
    {
      "cell_type": "code",
      "execution_count": 2,
      "metadata": {
        "id": "OvWKeyfrEs7m",
        "colab": {
          "base_uri": "https://localhost:8080/"
        },
        "outputId": "450fba0a-13d8-4fd1-a6b0-2d9e08f6719c"
      },
      "outputs": [
        {
          "output_type": "stream",
          "name": "stdout",
          "text": [
            "Requirement already satisfied: scikit-learn in /usr/local/lib/python3.10/dist-packages (1.2.2)\n",
            "Collecting scikit-learn\n",
            "  Downloading scikit_learn-1.3.2-cp310-cp310-manylinux_2_17_x86_64.manylinux2014_x86_64.whl (10.8 MB)\n",
            "\u001b[2K     \u001b[90m━━━━━━━━━━━━━━━━━━━━━━━━━━━━━━━━━━━━━━━━\u001b[0m \u001b[32m10.8/10.8 MB\u001b[0m \u001b[31m25.9 MB/s\u001b[0m eta \u001b[36m0:00:00\u001b[0m\n",
            "\u001b[?25hRequirement already satisfied: numpy<2.0,>=1.17.3 in /usr/local/lib/python3.10/dist-packages (from scikit-learn) (1.23.5)\n",
            "Requirement already satisfied: scipy>=1.5.0 in /usr/local/lib/python3.10/dist-packages (from scikit-learn) (1.11.3)\n",
            "Requirement already satisfied: joblib>=1.1.1 in /usr/local/lib/python3.10/dist-packages (from scikit-learn) (1.3.2)\n",
            "Requirement already satisfied: threadpoolctl>=2.0.0 in /usr/local/lib/python3.10/dist-packages (from scikit-learn) (3.2.0)\n",
            "Installing collected packages: scikit-learn\n",
            "  Attempting uninstall: scikit-learn\n",
            "    Found existing installation: scikit-learn 1.2.2\n",
            "    Uninstalling scikit-learn-1.2.2:\n",
            "      Successfully uninstalled scikit-learn-1.2.2\n",
            "Successfully installed scikit-learn-1.3.2\n",
            "Requirement already satisfied: pandas in /usr/local/lib/python3.10/dist-packages (1.5.3)\n",
            "Requirement already satisfied: python-dateutil>=2.8.1 in /usr/local/lib/python3.10/dist-packages (from pandas) (2.8.2)\n",
            "Requirement already satisfied: pytz>=2020.1 in /usr/local/lib/python3.10/dist-packages (from pandas) (2023.3.post1)\n",
            "Requirement already satisfied: numpy>=1.21.0 in /usr/local/lib/python3.10/dist-packages (from pandas) (1.23.5)\n",
            "Requirement already satisfied: six>=1.5 in /usr/local/lib/python3.10/dist-packages (from python-dateutil>=2.8.1->pandas) (1.16.0)\n"
          ]
        }
      ],
      "source": [
        "!pip install -U scikit-learn\n",
        "!pip install pandas"
      ]
    },
    {
      "cell_type": "markdown",
      "metadata": {
        "id": "DuOzIaJlHxa4"
      },
      "source": [
        "## Data ophalen"
      ]
    },
    {
      "cell_type": "code",
      "execution_count": 40,
      "metadata": {
        "id": "2lPMNd0MGspr"
      },
      "outputs": [],
      "source": [
        "from sklearn.linear_model import LogisticRegression\n",
        "from sklearn.ensemble import RandomForestClassifier, GradientBoostingClassifier\n",
        "from sklearn.svm import SVC\n",
        "from sklearn.model_selection import GridSearchCV\n",
        "from sklearn.model_selection import train_test_split\n",
        "import pandas as pd\n",
        "from sklearn import metrics\n",
        "from ast import literal_eval\n",
        "import json\n",
        "import re\n",
        "\n",
        "# data laden\n",
        "csv_path = f\"/content/drive/MyDrive/Osso data/training data/classifier_data_250_vac_group_1.csv\"\n",
        "data_df = pd.read_csv(filepath_or_buffer = csv_path, converters={\"Embedding\": lambda x: [float(num) for num in x.strip('[]').split()]})\n",
        "\n",
        "# Lijsten maken van data\n",
        "X = data_df['Embedding'].to_list()\n",
        "y = data_df['Label'].to_list()\n",
        "\n",
        "X_train, X_test, y_train, y_test = train_test_split(X, y, test_size=0.2, stratify=y)"
      ]
    },
    {
      "cell_type": "markdown",
      "source": [
        "## Logistic Regression"
      ],
      "metadata": {
        "id": "Zjc3i1oxi-SY"
      }
    },
    {
      "cell_type": "code",
      "source": [
        "# Model Trainen\n",
        "LR = LogisticRegression()\n",
        "LR.fit(X_train,y_train)\n",
        "\n",
        "# Testen of model werkt\n",
        "predicted = LR.predict(X_test)\n",
        "print(\"Logistic Regression Accuracy:\",metrics.accuracy_score(y_test, predicted))\n",
        "print(\"Logistic Regression Precision:\",metrics.precision_score(y_test, predicted))\n",
        "print(\"Logistic Regression Recall:\",metrics.recall_score(y_test, predicted))\n",
        "print(\"Logistic Regression F1:\",metrics.f1_score(y_test, predicted))\n",
        "print('')"
      ],
      "metadata": {
        "id": "kw8X35v3i9xy"
      },
      "execution_count": null,
      "outputs": []
    },
    {
      "cell_type": "markdown",
      "source": [
        "## Random Forest"
      ],
      "metadata": {
        "id": "jPUw1OHJjJhm"
      }
    },
    {
      "cell_type": "code",
      "source": [
        "RF = RandomForestClassifier()\n",
        "RF.fit(X_train, y_train)\n",
        "\n",
        "# Testen of model werkt\n",
        "predicted = RF.predict(X_test)\n",
        "print(\"Random Forest Accuracy:\",metrics.accuracy_score(y_test, predicted))\n",
        "print(\"Random Forest Precision:\",metrics.precision_score(y_test, predicted))\n",
        "print(\"Random Forest Recall:\",metrics.recall_score(y_test, predicted))\n",
        "print(\"Random Forest F1:\",metrics.f1_score(y_test, predicted))\n",
        "print('')"
      ],
      "metadata": {
        "id": "4sE2BDo3jI_3"
      },
      "execution_count": null,
      "outputs": []
    },
    {
      "cell_type": "markdown",
      "source": [
        "## Gradient Boosting"
      ],
      "metadata": {
        "id": "1odsUQI6jcG9"
      }
    },
    {
      "cell_type": "code",
      "source": [
        "GB = GradientBoostingClassifier()\n",
        "GB.fit(X_train, y_train)\n",
        "\n",
        "# Testen of model werkt\n",
        "predicted = GB.predict(X_test)\n",
        "print(\"Gradient Boosting Accuracy:\",metrics.accuracy_score(y_test, predicted))\n",
        "print(\"Gradient Boosting Precision:\",metrics.precision_score(y_test, predicted))\n",
        "print(\"Gradient Boosting Recall:\",metrics.recall_score(y_test, predicted))\n",
        "print(\"Gradient Boosting F1:\",metrics.f1_score(y_test, predicted))"
      ],
      "metadata": {
        "id": "vjRumi86jboI"
      },
      "execution_count": null,
      "outputs": []
    },
    {
      "cell_type": "markdown",
      "source": [
        "## SVM"
      ],
      "metadata": {
        "id": "Xd7anRqyiv40"
      }
    },
    {
      "cell_type": "code",
      "source": [
        "param_grids = {\n",
        "    'linear':{'C': [0.1, 1, 10],\n",
        "              'kernel': ['linear'],\n",
        "              'class_weight': [None, 'balanced']},\n",
        "    'rbf':{'C': [0.1, 1, 10],\n",
        "              'kernel': ['rbf'],\n",
        "              'gamma': [0.1, 1, 'auto'],\n",
        "              'class_weight': [None, 'balanced']},\n",
        "    'poly':{'C': [0.1, 1, 10],\n",
        "              'kernel': ['poly'],\n",
        "              'gamma': [0.1, 1, 'auto'],\n",
        "              'degree': [2, 3, 4],\n",
        "              'class_weight': [None, 'balanced']}\n",
        "}\n",
        "\n",
        "best_f1_scores = {}\n",
        "best_models = {}\n",
        "\n",
        "# Iterate through each kernel type in param_grids\n",
        "for kernel, params in param_grids.items():\n",
        "    # Create the SVM model\n",
        "    svm = SVC()\n",
        "\n",
        "    # Perform grid search\n",
        "    grid_search = GridSearchCV(estimator=svm, param_grid=params, cv=5, scoring='f1')\n",
        "    grid_search.fit(X_train, y_train)\n",
        "\n",
        "    # Get the best F1 score and best model for each kernel type\n",
        "    best_f1_scores[kernel] = grid_search.best_score_\n",
        "    best_models[kernel] = grid_search.best_estimator_\n",
        "    print(f\"Finished {kernel}\")\n",
        "\n",
        "# Find the kernel type with the highest F1 score\n",
        "best_kernel = max(best_f1_scores, key=best_f1_scores.get)\n",
        "best_f1_for_best_kernel = best_f1_scores[best_kernel]\n",
        "best_model_for_best_kernel = best_models[best_kernel]\n",
        "\n",
        "print(f\"Best kernel type: {best_kernel}\")\n",
        "print(f\"Best F1 score for the best kernel type: {best_f1_for_best_kernel:.4f}\")\n",
        "print(f\"Best model parameters: {best_model_for_best_kernel.get_params()}\")\n",
        "\n",
        "# Testen of model werkt\n",
        "predicted = best_model_for_best_kernel.predict(X_test)\n",
        "print(predicted)\n",
        "print(y_test)\n",
        "print(\"Support Vector Machine Accuracy:\",metrics.accuracy_score(y_test, predicted))\n",
        "print(\"Support Vector Machine Precision:\",metrics.precision_score(y_test, predicted))\n",
        "print(\"Support Vector Machine Recall:\",metrics.recall_score(y_test, predicted))\n",
        "print(\"Support Vector Machine F1:\",metrics.f1_score(y_test, predicted))\n",
        "print('')"
      ],
      "metadata": {
        "colab": {
          "base_uri": "https://localhost:8080/"
        },
        "id": "Gkom-6DpivdQ",
        "outputId": "1ba4d3a8-c645-4fe9-9b9e-094cbc457058"
      },
      "execution_count": null,
      "outputs": [
        {
          "output_type": "stream",
          "name": "stdout",
          "text": [
            "Finished linear\n",
            "Finished rbf\n"
          ]
        }
      ]
    }
  ],
  "metadata": {
    "colab": {
      "provenance": [],
      "gpuType": "T4",
      "authorship_tag": "ABX9TyPrjkItDLrOmaslRAaSCoSq",
      "include_colab_link": true
    },
    "kernelspec": {
      "display_name": "Python 3",
      "name": "python3"
    },
    "language_info": {
      "name": "python"
    }
  },
  "nbformat": 4,
  "nbformat_minor": 0
}